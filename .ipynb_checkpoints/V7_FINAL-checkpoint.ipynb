{
 "cells": [
  {
   "cell_type": "markdown",
   "metadata": {},
   "source": [
    "# Optimal Price for an AirBnB Rental\n",
    "## Introduction\n",
    "AirBnB is a marketplace for short term rentals that allows users to list part or all of a living space for others to rent. Users can rent everything from a room in an apartment to your entire house on AirBnB. Because most of the listings are on a short-term basis, AirBnB has grown to become a popular alternative to hotels. The company itself has grown from it's founding in 2008 to a 30 billion dollar valuation in 2016 and is currently worth more than any hotel chain in the world.\n",
    "## Problem Definition\n",
    "One challenge that hosts looking to rent their living space face is determining the optimal nightly rent price. In many areas, renters are presented with a good selection of listings and can filter on criteria like price, number of bedrooms, room type and more. Since AirBnB is a marketplace, the amount a host can charge on a nightly basis is closely linked to the dynamics of the marketplace. In this project I will be taking on the role of a host wanting to rent my living space.\n",
    "As a host, if I try to charge above market price for my living space, then renters will select more affordable alternatives which are similar to mine. If I set my nightly rent price too low, I could miss out on potential revenue.\n",
    "\n",
    "One strategy I could use is to:\n",
    "\n",
    "* find a few listings that are similar to mine (k=5),\n",
    "* average the listed price for the ones most similar to mine,\n",
    "* set my listing price to this calculated average price.\n",
    "\n",
    "In this project I will use data on local listings to predict the optimal price to set for a rental. I will use the __K-Nearest Neighbors__ algorithm to solve this problem.\n",
    "\n",
    "## The Data\n",
    "While AirBnB doesn't release any data on the listings in their marketplace, a separate group named _Inside AirBnB_ has extracted data on a sample of the listings for many of the major cities on the website. I'll be working with their dataset from October 3, 2015 on the listings from Washington, D.C., the capital of the United States. Here's a [direct link to that dataset.](http://data.insideairbnb.com/united-states/dc/washington-dc/2015-10-03/data/listings.csv.gz) Each row in the dataset is a specific listing that's available for renting on AirBnB in the Washington, D.C. area.\n",
    "\n",
    "The data file is named `dc_airbnb.csv`, the columns and their descriptions are below:\n",
    "* `host_response_rate`: the response rate of the host\n",
    "* `host_acceptance_rate`: number of requests to the host that convert to rentals\n",
    "* `host_listings_count`: number of other listings the host has\n",
    "* `latitude`: latitude dimension of the geographic coordinates\n",
    "* `longitude`: longitude part of the coordinates\n",
    "* `city`: the city the living space resides\n",
    "* `zipcode`: the zip code the living space resides\n",
    "* `state`: the state the living space resides\n",
    "* `accommodates`: the number of guests the rental can accommodate\n",
    "* `room_type`: the type of living space (Private room, Shared room or Entire home/apt\n",
    "* `bedrooms`: number of bedrooms included in the rental\n",
    "* `bathrooms`: number of bathrooms included in the rental\n",
    "* `beds`: number of beds included in the rental\n",
    "* `price`: nightly price for the rental\n",
    "* `cleaning_fee`: additional fee used for cleaning the living space after the guest leaves\n",
    "* `security_deposit`: refundable security deposit, in case of damages\n",
    "* `minimum_nights`: minimum number of nights a guest can stay for the rental\n",
    "* `maximum_nights`: maximum number of nights a guest can stay for the rental\n",
    "* `number_of_reviews`: number of reviews that previous guests have left\n",
    "\n",
    "I will start by reading the data in as a dataframe and prepare the data for analysis."
   ]
  },
  {
   "cell_type": "code",
   "execution_count": 1,
   "metadata": {},
   "outputs": [
    {
     "data": {
      "text/html": [
       "<div>\n",
       "<style scoped>\n",
       "    .dataframe tbody tr th:only-of-type {\n",
       "        vertical-align: middle;\n",
       "    }\n",
       "\n",
       "    .dataframe tbody tr th {\n",
       "        vertical-align: top;\n",
       "    }\n",
       "\n",
       "    .dataframe thead th {\n",
       "        text-align: right;\n",
       "    }\n",
       "</style>\n",
       "<table border=\"1\" class=\"dataframe\">\n",
       "  <thead>\n",
       "    <tr style=\"text-align: right;\">\n",
       "      <th></th>\n",
       "      <th>host_response_rate</th>\n",
       "      <th>host_acceptance_rate</th>\n",
       "      <th>host_listings_count</th>\n",
       "      <th>accommodates</th>\n",
       "      <th>room_type</th>\n",
       "      <th>bedrooms</th>\n",
       "      <th>bathrooms</th>\n",
       "      <th>beds</th>\n",
       "      <th>price</th>\n",
       "      <th>cleaning_fee</th>\n",
       "      <th>security_deposit</th>\n",
       "      <th>minimum_nights</th>\n",
       "      <th>maximum_nights</th>\n",
       "      <th>number_of_reviews</th>\n",
       "      <th>latitude</th>\n",
       "      <th>longitude</th>\n",
       "      <th>city</th>\n",
       "      <th>zipcode</th>\n",
       "      <th>state</th>\n",
       "    </tr>\n",
       "  </thead>\n",
       "  <tbody>\n",
       "    <tr>\n",
       "      <td>0</td>\n",
       "      <td>92%</td>\n",
       "      <td>91%</td>\n",
       "      <td>26</td>\n",
       "      <td>4</td>\n",
       "      <td>Entire home/apt</td>\n",
       "      <td>1.0</td>\n",
       "      <td>1.0</td>\n",
       "      <td>2.0</td>\n",
       "      <td>$160.00</td>\n",
       "      <td>$115.00</td>\n",
       "      <td>$100.00</td>\n",
       "      <td>1</td>\n",
       "      <td>1125</td>\n",
       "      <td>0</td>\n",
       "      <td>38.890046</td>\n",
       "      <td>-77.002808</td>\n",
       "      <td>Washington</td>\n",
       "      <td>20003</td>\n",
       "      <td>DC</td>\n",
       "    </tr>\n",
       "    <tr>\n",
       "      <td>1</td>\n",
       "      <td>90%</td>\n",
       "      <td>100%</td>\n",
       "      <td>1</td>\n",
       "      <td>6</td>\n",
       "      <td>Entire home/apt</td>\n",
       "      <td>3.0</td>\n",
       "      <td>3.0</td>\n",
       "      <td>3.0</td>\n",
       "      <td>$350.00</td>\n",
       "      <td>$100.00</td>\n",
       "      <td>NaN</td>\n",
       "      <td>2</td>\n",
       "      <td>30</td>\n",
       "      <td>65</td>\n",
       "      <td>38.880413</td>\n",
       "      <td>-76.990485</td>\n",
       "      <td>Washington</td>\n",
       "      <td>20003</td>\n",
       "      <td>DC</td>\n",
       "    </tr>\n",
       "    <tr>\n",
       "      <td>2</td>\n",
       "      <td>90%</td>\n",
       "      <td>100%</td>\n",
       "      <td>2</td>\n",
       "      <td>1</td>\n",
       "      <td>Private room</td>\n",
       "      <td>1.0</td>\n",
       "      <td>2.0</td>\n",
       "      <td>1.0</td>\n",
       "      <td>$50.00</td>\n",
       "      <td>NaN</td>\n",
       "      <td>NaN</td>\n",
       "      <td>2</td>\n",
       "      <td>1125</td>\n",
       "      <td>1</td>\n",
       "      <td>38.955291</td>\n",
       "      <td>-76.986006</td>\n",
       "      <td>Hyattsville</td>\n",
       "      <td>20782</td>\n",
       "      <td>MD</td>\n",
       "    </tr>\n",
       "    <tr>\n",
       "      <td>3</td>\n",
       "      <td>100%</td>\n",
       "      <td>NaN</td>\n",
       "      <td>1</td>\n",
       "      <td>2</td>\n",
       "      <td>Private room</td>\n",
       "      <td>1.0</td>\n",
       "      <td>1.0</td>\n",
       "      <td>1.0</td>\n",
       "      <td>$95.00</td>\n",
       "      <td>NaN</td>\n",
       "      <td>NaN</td>\n",
       "      <td>1</td>\n",
       "      <td>1125</td>\n",
       "      <td>0</td>\n",
       "      <td>38.872134</td>\n",
       "      <td>-77.019639</td>\n",
       "      <td>Washington</td>\n",
       "      <td>20024</td>\n",
       "      <td>DC</td>\n",
       "    </tr>\n",
       "    <tr>\n",
       "      <td>4</td>\n",
       "      <td>92%</td>\n",
       "      <td>67%</td>\n",
       "      <td>1</td>\n",
       "      <td>4</td>\n",
       "      <td>Entire home/apt</td>\n",
       "      <td>1.0</td>\n",
       "      <td>1.0</td>\n",
       "      <td>1.0</td>\n",
       "      <td>$50.00</td>\n",
       "      <td>$15.00</td>\n",
       "      <td>$450.00</td>\n",
       "      <td>7</td>\n",
       "      <td>1125</td>\n",
       "      <td>0</td>\n",
       "      <td>38.996382</td>\n",
       "      <td>-77.041541</td>\n",
       "      <td>Silver Spring</td>\n",
       "      <td>20910</td>\n",
       "      <td>MD</td>\n",
       "    </tr>\n",
       "  </tbody>\n",
       "</table>\n",
       "</div>"
      ],
      "text/plain": [
       "  host_response_rate host_acceptance_rate  host_listings_count  accommodates  \\\n",
       "0                92%                  91%                   26             4   \n",
       "1                90%                 100%                    1             6   \n",
       "2                90%                 100%                    2             1   \n",
       "3               100%                  NaN                    1             2   \n",
       "4                92%                  67%                    1             4   \n",
       "\n",
       "         room_type  bedrooms  bathrooms  beds    price cleaning_fee  \\\n",
       "0  Entire home/apt       1.0        1.0   2.0  $160.00      $115.00   \n",
       "1  Entire home/apt       3.0        3.0   3.0  $350.00      $100.00   \n",
       "2     Private room       1.0        2.0   1.0   $50.00          NaN   \n",
       "3     Private room       1.0        1.0   1.0   $95.00          NaN   \n",
       "4  Entire home/apt       1.0        1.0   1.0   $50.00       $15.00   \n",
       "\n",
       "  security_deposit  minimum_nights  maximum_nights  number_of_reviews  \\\n",
       "0          $100.00               1            1125                  0   \n",
       "1              NaN               2              30                 65   \n",
       "2              NaN               2            1125                  1   \n",
       "3              NaN               1            1125                  0   \n",
       "4          $450.00               7            1125                  0   \n",
       "\n",
       "    latitude  longitude           city zipcode state  \n",
       "0  38.890046 -77.002808     Washington   20003    DC  \n",
       "1  38.880413 -76.990485     Washington   20003    DC  \n",
       "2  38.955291 -76.986006    Hyattsville   20782    MD  \n",
       "3  38.872134 -77.019639     Washington   20024    DC  \n",
       "4  38.996382 -77.041541  Silver Spring   20910    MD  "
      ]
     },
     "execution_count": 1,
     "metadata": {},
     "output_type": "execute_result"
    }
   ],
   "source": [
    "import pandas as pd\n",
    "import numpy as np\n",
    "dc_listings = pd.read_csv(\"dc_airbnb.csv\")\n",
    "dc_listings.head()"
   ]
  },
  {
   "cell_type": "code",
   "execution_count": 2,
   "metadata": {},
   "outputs": [
    {
     "data": {
      "text/plain": [
       "host_response_rate       object\n",
       "host_acceptance_rate     object\n",
       "host_listings_count       int64\n",
       "accommodates              int64\n",
       "room_type                object\n",
       "bedrooms                float64\n",
       "bathrooms               float64\n",
       "beds                    float64\n",
       "price                    object\n",
       "cleaning_fee             object\n",
       "security_deposit         object\n",
       "minimum_nights            int64\n",
       "maximum_nights            int64\n",
       "number_of_reviews         int64\n",
       "latitude                float64\n",
       "longitude               float64\n",
       "city                     object\n",
       "zipcode                  object\n",
       "state                    object\n",
       "dtype: object"
      ]
     },
     "execution_count": 2,
     "metadata": {},
     "output_type": "execute_result"
    }
   ],
   "source": [
    "#looking for columns with numeric data\n",
    "dc_listings.dtypes"
   ]
  },
  {
   "cell_type": "markdown",
   "metadata": {},
   "source": [
    "### Finding Similar Listings\n",
    "To find listings similar to mine, I need a similarity metric to compare attributes. I will use the univariate case of the Euclidean distance metric:\n",
    "<p>\n",
    "<center><i> \n",
    "    distance = |q1 - p1| \n",
    "    </i></center>\n",
    "</p>\n",
    "\n",
    "* where q1 and p1 are feature values of observations to be compared\n",
    "\n",
    "My living space can accomodate 3 people, so I will calculate the distance, using the `accomodates` column, between my listing and all others in the data set."
   ]
  },
  {
   "cell_type": "code",
   "execution_count": 3,
   "metadata": {},
   "outputs": [
    {
     "name": "stdout",
     "output_type": "stream",
     "text": [
      "1     2294\n",
      "2      503\n",
      "0      461\n",
      "3      279\n",
      "5       73\n",
      "4       35\n",
      "7       22\n",
      "6       17\n",
      "9       12\n",
      "13       8\n",
      "8        7\n",
      "12       6\n",
      "11       4\n",
      "10       2\n",
      "Name: distance, dtype: int64\n"
     ]
    }
   ],
   "source": [
    "#calculating Euclidean distance for all observations\n",
    "dc_listings['distance'] = dc_listings['accommodates'].apply(lambda x: np.abs(x-3))\n",
    "\n",
    "#ranking spaces by ascending distance\n",
    "print(dc_listings['distance'].value_counts())"
   ]
  },
  {
   "cell_type": "markdown",
   "metadata": {},
   "source": [
    "From looking at these results, I am primarily interested in data where distance = 0. This is because a distance of 0 means the value of both features are exactly the same; there are 461 listings in this data set that can also accomodate 3 people.\n",
    "\n",
    "In order to avoid biasing my results to the ordering of the data set, I will randomize the order then sort the dataframe by the `distance` column."
   ]
  },
  {
   "cell_type": "code",
   "execution_count": 4,
   "metadata": {},
   "outputs": [
    {
     "name": "stdout",
     "output_type": "stream",
     "text": [
      "577     $185.00\n",
      "2166    $180.00\n",
      "3631    $175.00\n",
      "71      $128.00\n",
      "1011    $115.00\n",
      "380     $219.00\n",
      "943     $125.00\n",
      "3107    $250.00\n",
      "1499     $94.00\n",
      "625     $150.00\n",
      "Name: price, dtype: object\n"
     ]
    }
   ],
   "source": [
    "np.random.seed(1)\n",
    "\n",
    "#returns a numpy array of shuffled index values and returns a dataframe containing the shuffled order\n",
    "dc_listings = dc_listings.loc[np.random.permutation(len(dc_listings))]\n",
    "dc_listings = dc_listings.sort_values('distance')\n",
    "\n",
    "#now that the dataframe is sorted, I'll display the first 10 values in the price column where distance=0\n",
    "print(dc_listings.iloc[0:10]['price'])"
   ]
  },
  {
   "cell_type": "markdown",
   "metadata": {},
   "source": [
    "### Find Average Listing Price\n",
    "Before I can select the 5 most similar living spaces and compute the average price, I need to clean the `price` column. Currently, the column contains comma characters (,) and dollar sign characters and is formatted as a text column instead of a numeric one. I need to remove these values and convert the entire column to the float datatype. Then, we can calculate the average price."
   ]
  },
  {
   "cell_type": "code",
   "execution_count": 5,
   "metadata": {},
   "outputs": [
    {
     "name": "stdout",
     "output_type": "stream",
     "text": [
      "156.6\n"
     ]
    }
   ],
   "source": [
    "#cleaning price and converting to float\n",
    "cleaned_price = dc_listings['price'].str.replace(',','').str.replace('$','')\n",
    "dc_listings['price'] = pd.to_numeric(cleaned_price, errors='coerce')\n",
    "\n",
    "#calculating the mean price of the first five values where distance=0\n",
    "mean_price = np.mean(dc_listings.iloc[0:5]['price'])\n",
    "print(mean_price)"
   ]
  },
  {
   "cell_type": "markdown",
   "metadata": {},
   "source": [
    "Based on the first five listings that accomodate 3 people, the average price of similar listings is $156.60 per night.\n",
    "I can create a more general function from the above steps that gives the average price for other values of the `accommodates` column:"
   ]
  },
  {
   "cell_type": "code",
   "execution_count": 6,
   "metadata": {},
   "outputs": [
    {
     "name": "stdout",
     "output_type": "stream",
     "text": [
      "194.8\n"
     ]
    }
   ],
   "source": [
    "#where 'new_listing' = accomodates\n",
    "def predict_price(new_listing):\n",
    "    temp_df = dc_listings.copy()\n",
    "    temp_df['distance'] = temp_df.accommodates.apply(lambda x: np.abs(x - new_listing))\n",
    "    temp_df = temp_df.sort_values('distance')\n",
    "    price = temp_df.iloc[0:5]['price']\n",
    "    \n",
    "    return(np.mean(price))\n",
    "\n",
    "#test\n",
    "print(predict_price(3))"
   ]
  },
  {
   "cell_type": "markdown",
   "metadata": {},
   "source": [
    "It is interesting to note that when I pass in accomodates = 3, I get an average price of $194.80 which is 20\\% more than the original price I found before."
   ]
  },
  {
   "cell_type": "markdown",
   "metadata": {},
   "source": [
    "### Evaluating Model Performance\n",
    "In this section I will be analyzing the accuracy of my price prediction model. I will be using train/test validation to test my model. I am still using k=5 for this analysis and will use the rows in the training set to predict the price value for the rows in the test set. I will add a new column named `predicted_price` to the test set and compare the `predicted_price` values with the actual `price` values in the test set to see how accurate the predicted values were."
   ]
  },
  {
   "cell_type": "code",
   "execution_count": 7,
   "metadata": {},
   "outputs": [
    {
     "name": "stderr",
     "output_type": "stream",
     "text": [
      "c:\\users\\deand\\appdata\\local\\programs\\python\\python37-32\\lib\\site-packages\\ipykernel_launcher.py:14: SettingWithCopyWarning: \n",
      "A value is trying to be set on a copy of a slice from a DataFrame.\n",
      "Try using .loc[row_indexer,col_indexer] = value instead\n",
      "\n",
      "See the caveats in the documentation: http://pandas.pydata.org/pandas-docs/stable/user_guide/indexing.html#returning-a-view-versus-a-copy\n",
      "  \n"
     ]
    }
   ],
   "source": [
    "train_df = dc_listings.iloc[0:2792]\n",
    "test_df = dc_listings.iloc[2792:]\n",
    "\n",
    "def predict_price(new_listing):\n",
    "    temp_df = train_df.copy()\n",
    "    temp_df['distance'] = temp_df['accommodates'].apply(lambda x: np.abs(x - new_listing))\n",
    "    temp_df = temp_df.sort_values('distance')\n",
    "    nearest_neighbor_prices = temp_df.iloc[0:5]['price']\n",
    "    \n",
    "    predicted_price = nearest_neighbor_prices.mean()\n",
    "    return(predicted_price)\n",
    "\n",
    "#applying the model to the 'accomodates' column and setting the result to the 'predicted_price' column\n",
    "test_df['predicted_price'] = test_df['accommodates'].apply(predict_price)"
   ]
  },
  {
   "cell_type": "code",
   "execution_count": 8,
   "metadata": {
    "scrolled": true
   },
   "outputs": [
    {
     "name": "stdout",
     "output_type": "stream",
     "text": [
      "96.32309344790546\n"
     ]
    }
   ],
   "source": [
    "#calculating the mean absolute error to test the model's accuracy at predicting price\n",
    "mae = (np.abs(test_df['price']-test_df['predicted_price'])).mean()\n",
    "print(mae)"
   ]
  },
  {
   "cell_type": "markdown",
   "metadata": {},
   "source": [
    "This tells me that my model is \\\\$96.30 off from the actual price. This is a large error considering the original average listing price was \\\\$194.80. I'll see \n",
    "\n",
    "There are 2 ways I can alter the model to try to improve the accuracy (decrease the MAE during validation):\n",
    "\n",
    "* increase the number of attributes the model uses to calculate similarity when ranking the closest neighbors\n",
    "* increase k, the number of nearby neighbors the model uses when computing the prediction \n",
    "\n",
    "I'll start by increasing the number of attributes first to see if I can reduce the model error.\n",
    "\n",
    "### Multivariate K-Nearest Neighbors\n",
    "Since I am increasing the number of attributes the model uses I need to watch out for columns that don't work well with the distance equation. These columns include non-numeric or non-ordinal data"
   ]
  },
  {
   "cell_type": "code",
   "execution_count": 9,
   "metadata": {},
   "outputs": [
    {
     "name": "stdout",
     "output_type": "stream",
     "text": [
      "<class 'pandas.core.frame.DataFrame'>\n",
      "Int64Index: 3723 entries, 577 to 1224\n",
      "Data columns (total 20 columns):\n",
      "host_response_rate      3289 non-null object\n",
      "host_acceptance_rate    3109 non-null object\n",
      "host_listings_count     3723 non-null int64\n",
      "accommodates            3723 non-null int64\n",
      "room_type               3723 non-null object\n",
      "bedrooms                3702 non-null float64\n",
      "bathrooms               3696 non-null float64\n",
      "beds                    3712 non-null float64\n",
      "price                   3723 non-null float64\n",
      "cleaning_fee            2335 non-null object\n",
      "security_deposit        1426 non-null object\n",
      "minimum_nights          3723 non-null int64\n",
      "maximum_nights          3723 non-null int64\n",
      "number_of_reviews       3723 non-null int64\n",
      "latitude                3723 non-null float64\n",
      "longitude               3723 non-null float64\n",
      "city                    3723 non-null object\n",
      "zipcode                 3714 non-null object\n",
      "state                   3723 non-null object\n",
      "distance                3723 non-null int64\n",
      "dtypes: float64(6), int64(6), object(8)\n",
      "memory usage: 494.5+ KB\n"
     ]
    }
   ],
   "source": [
    "#look for non-ordinal/non-numeric and missing data\n",
    "dc_listings.info()"
   ]
  },
  {
   "cell_type": "markdown",
   "metadata": {},
   "source": [
    "Now I'll drop the columns that are non-numeric or non-ordinal"
   ]
  },
  {
   "cell_type": "code",
   "execution_count": 10,
   "metadata": {},
   "outputs": [],
   "source": [
    "drop_columns = ['room_type', 'city', 'state', 'latitude', 'longitude', 'zipcode', 'host_response_rate', 'host_acceptance_rate', 'host_listings_count']\n",
    "\n",
    "dc_listings = dc_listings.drop(drop_columns, axis=1)"
   ]
  },
  {
   "cell_type": "markdown",
   "metadata": {},
   "source": [
    "I also need to drop columns that have too many missing values."
   ]
  },
  {
   "cell_type": "code",
   "execution_count": 11,
   "metadata": {},
   "outputs": [
    {
     "data": {
      "text/plain": [
       "accommodates            0\n",
       "bedrooms               21\n",
       "bathrooms              27\n",
       "beds                   11\n",
       "price                   0\n",
       "cleaning_fee         1388\n",
       "security_deposit     2297\n",
       "minimum_nights          0\n",
       "maximum_nights          0\n",
       "number_of_reviews       0\n",
       "distance                0\n",
       "dtype: int64"
      ]
     },
     "execution_count": 11,
     "metadata": {},
     "output_type": "execute_result"
    }
   ],
   "source": [
    "#looking for missing values\n",
    "dc_listings.isnull().sum()"
   ]
  },
  {
   "cell_type": "markdown",
   "metadata": {},
   "source": [
    "I'll also drop both the `cleaning_fee` and `security_deposit` columns since they are missing a lot of data."
   ]
  },
  {
   "cell_type": "code",
   "execution_count": 12,
   "metadata": {
    "scrolled": true
   },
   "outputs": [
    {
     "data": {
      "text/plain": [
       "accommodates         0\n",
       "bedrooms             0\n",
       "bathrooms            0\n",
       "beds                 0\n",
       "price                0\n",
       "minimum_nights       0\n",
       "maximum_nights       0\n",
       "number_of_reviews    0\n",
       "distance             0\n",
       "dtype: int64"
      ]
     },
     "execution_count": 12,
     "metadata": {},
     "output_type": "execute_result"
    }
   ],
   "source": [
    "dc_listings = dc_listings.drop(['cleaning_fee', 'security_deposit'], axis=1)\n",
    "\n",
    "#I'll drop the rest of the missing data\n",
    "dc_listings = dc_listings.dropna(axis=0)\n",
    "dc_listings.isnull().sum()"
   ]
  },
  {
   "cell_type": "code",
   "execution_count": 13,
   "metadata": {},
   "outputs": [
    {
     "data": {
      "text/html": [
       "<div>\n",
       "<style scoped>\n",
       "    .dataframe tbody tr th:only-of-type {\n",
       "        vertical-align: middle;\n",
       "    }\n",
       "\n",
       "    .dataframe tbody tr th {\n",
       "        vertical-align: top;\n",
       "    }\n",
       "\n",
       "    .dataframe thead th {\n",
       "        text-align: right;\n",
       "    }\n",
       "</style>\n",
       "<table border=\"1\" class=\"dataframe\">\n",
       "  <thead>\n",
       "    <tr style=\"text-align: right;\">\n",
       "      <th></th>\n",
       "      <th>accommodates</th>\n",
       "      <th>bedrooms</th>\n",
       "      <th>bathrooms</th>\n",
       "      <th>beds</th>\n",
       "      <th>price</th>\n",
       "      <th>minimum_nights</th>\n",
       "      <th>maximum_nights</th>\n",
       "      <th>number_of_reviews</th>\n",
       "      <th>distance</th>\n",
       "    </tr>\n",
       "  </thead>\n",
       "  <tbody>\n",
       "    <tr>\n",
       "      <td>577</td>\n",
       "      <td>3</td>\n",
       "      <td>1.0</td>\n",
       "      <td>1.0</td>\n",
       "      <td>2.0</td>\n",
       "      <td>185.0</td>\n",
       "      <td>2</td>\n",
       "      <td>14</td>\n",
       "      <td>1</td>\n",
       "      <td>0</td>\n",
       "    </tr>\n",
       "    <tr>\n",
       "      <td>2166</td>\n",
       "      <td>3</td>\n",
       "      <td>1.0</td>\n",
       "      <td>1.0</td>\n",
       "      <td>1.0</td>\n",
       "      <td>180.0</td>\n",
       "      <td>1</td>\n",
       "      <td>14</td>\n",
       "      <td>10</td>\n",
       "      <td>0</td>\n",
       "    </tr>\n",
       "    <tr>\n",
       "      <td>3631</td>\n",
       "      <td>3</td>\n",
       "      <td>1.0</td>\n",
       "      <td>1.0</td>\n",
       "      <td>2.0</td>\n",
       "      <td>175.0</td>\n",
       "      <td>3</td>\n",
       "      <td>14</td>\n",
       "      <td>1</td>\n",
       "      <td>0</td>\n",
       "    </tr>\n",
       "    <tr>\n",
       "      <td>71</td>\n",
       "      <td>3</td>\n",
       "      <td>1.0</td>\n",
       "      <td>1.0</td>\n",
       "      <td>1.0</td>\n",
       "      <td>128.0</td>\n",
       "      <td>1</td>\n",
       "      <td>1125</td>\n",
       "      <td>9</td>\n",
       "      <td>0</td>\n",
       "    </tr>\n",
       "    <tr>\n",
       "      <td>1011</td>\n",
       "      <td>3</td>\n",
       "      <td>0.0</td>\n",
       "      <td>1.0</td>\n",
       "      <td>1.0</td>\n",
       "      <td>115.0</td>\n",
       "      <td>1</td>\n",
       "      <td>1125</td>\n",
       "      <td>0</td>\n",
       "      <td>0</td>\n",
       "    </tr>\n",
       "    <tr>\n",
       "      <td>943</td>\n",
       "      <td>3</td>\n",
       "      <td>1.0</td>\n",
       "      <td>1.0</td>\n",
       "      <td>1.0</td>\n",
       "      <td>125.0</td>\n",
       "      <td>1</td>\n",
       "      <td>1125</td>\n",
       "      <td>3</td>\n",
       "      <td>0</td>\n",
       "    </tr>\n",
       "    <tr>\n",
       "      <td>3107</td>\n",
       "      <td>3</td>\n",
       "      <td>1.0</td>\n",
       "      <td>1.0</td>\n",
       "      <td>1.0</td>\n",
       "      <td>250.0</td>\n",
       "      <td>1</td>\n",
       "      <td>1125</td>\n",
       "      <td>0</td>\n",
       "      <td>0</td>\n",
       "    </tr>\n",
       "    <tr>\n",
       "      <td>1499</td>\n",
       "      <td>3</td>\n",
       "      <td>0.0</td>\n",
       "      <td>1.0</td>\n",
       "      <td>2.0</td>\n",
       "      <td>94.0</td>\n",
       "      <td>1</td>\n",
       "      <td>1125</td>\n",
       "      <td>2</td>\n",
       "      <td>0</td>\n",
       "    </tr>\n",
       "    <tr>\n",
       "      <td>625</td>\n",
       "      <td>3</td>\n",
       "      <td>1.0</td>\n",
       "      <td>1.0</td>\n",
       "      <td>1.0</td>\n",
       "      <td>150.0</td>\n",
       "      <td>1</td>\n",
       "      <td>1125</td>\n",
       "      <td>5</td>\n",
       "      <td>0</td>\n",
       "    </tr>\n",
       "    <tr>\n",
       "      <td>1309</td>\n",
       "      <td>3</td>\n",
       "      <td>1.0</td>\n",
       "      <td>1.0</td>\n",
       "      <td>1.0</td>\n",
       "      <td>70.0</td>\n",
       "      <td>1</td>\n",
       "      <td>1125</td>\n",
       "      <td>2</td>\n",
       "      <td>0</td>\n",
       "    </tr>\n",
       "  </tbody>\n",
       "</table>\n",
       "</div>"
      ],
      "text/plain": [
       "      accommodates  bedrooms  bathrooms  beds  price  minimum_nights  \\\n",
       "577              3       1.0        1.0   2.0  185.0               2   \n",
       "2166             3       1.0        1.0   1.0  180.0               1   \n",
       "3631             3       1.0        1.0   2.0  175.0               3   \n",
       "71               3       1.0        1.0   1.0  128.0               1   \n",
       "1011             3       0.0        1.0   1.0  115.0               1   \n",
       "943              3       1.0        1.0   1.0  125.0               1   \n",
       "3107             3       1.0        1.0   1.0  250.0               1   \n",
       "1499             3       0.0        1.0   2.0   94.0               1   \n",
       "625              3       1.0        1.0   1.0  150.0               1   \n",
       "1309             3       1.0        1.0   1.0   70.0               1   \n",
       "\n",
       "      maximum_nights  number_of_reviews  distance  \n",
       "577               14                  1         0  \n",
       "2166              14                 10         0  \n",
       "3631              14                  1         0  \n",
       "71              1125                  9         0  \n",
       "1011            1125                  0         0  \n",
       "943             1125                  3         0  \n",
       "3107            1125                  0         0  \n",
       "1499            1125                  2         0  \n",
       "625             1125                  5         0  \n",
       "1309            1125                  2         0  "
      ]
     },
     "execution_count": 13,
     "metadata": {},
     "output_type": "execute_result"
    }
   ],
   "source": [
    "dc_listings.head(10)"
   ]
  },
  {
   "cell_type": "markdown",
   "metadata": {},
   "source": [
    "Now I have a clear idea of what the data looks like post-cleaning. I can see there is a large range of values in `maximum_nights`(10-1125) and `number_of_reviews`(0-46) just from looking at the first 20 rows.\n",
    "If I use these 2 columns as part of a k-nearest neighbors model, these attributes could end up having an outsized effect on the distance calculations because of the large range of values.\n",
    "For example, 2 living spaces could be identical across every attribute but be vastly different just on the `maximum_nights` column. If one listing had a `maximum_nights` value of 1825 and the other a value of 4, because of the way Euclidean distance is calculated, these listings would be considered very far apart because of the outsized effect the largeness of the values had on the overall Euclidean distance. To prevent any single column from having too much of an impact on the distance, I will normalize all of the columns to have a mean of 0 and a standard deviation of 1. To create a standard normal distribution I need to make the following transformation:\n",
    "<p>\n",
    "<center><i>(max_nights value - mean(max_nights column)) / standard deviation(max_nights column)</i></center>\n",
    "</p>"
   ]
  },
  {
   "cell_type": "code",
   "execution_count": 14,
   "metadata": {},
   "outputs": [
    {
     "name": "stdout",
     "output_type": "stream",
     "text": [
      "      accommodates  bedrooms  bathrooms      beds  price  minimum_nights  \\\n",
      "577      -0.097589 -0.249467  -0.439151  0.297345  185.0       -0.065038   \n",
      "2166     -0.097589 -0.249467  -0.439151 -0.546858  180.0       -0.341375   \n",
      "3631     -0.097589 -0.249467  -0.439151  0.297345  175.0        0.211298   \n",
      "\n",
      "      maximum_nights  number_of_reviews  distance  \n",
      "577        -0.016604          -0.482505 -0.996634  \n",
      "2166       -0.016604          -0.174671 -0.996634  \n",
      "3631       -0.016604          -0.482505 -0.996634  \n"
     ]
    }
   ],
   "source": [
    "#normalizing columns in the dataframe\n",
    "normalized_listings = (dc_listings - dc_listings.mean()) / (dc_listings.std())\n",
    "#adding the 'price' column\n",
    "normalized_listings['price'] = dc_listings['price']\n",
    "print(normalized_listings[0:3])"
   ]
  },
  {
   "cell_type": "markdown",
   "metadata": {},
   "source": [
    "Now that the columns are normalized, I'll train a model that uses the `accomodates` and `bathrooms` attributes to determine how similar 2 living spaces are. This time, I'll use the `euclidean()` function from scipy.spatial, which takes in 2 vectors as parameters and calculates the Euclidean distance between them. "
   ]
  },
  {
   "cell_type": "code",
   "execution_count": 15,
   "metadata": {},
   "outputs": [
    {
     "name": "stdout",
     "output_type": "stream",
     "text": [
      "0.0\n"
     ]
    }
   ],
   "source": [
    "from scipy.spatial import distance\n",
    "first_listing = normalized_listings.iloc[0][['accommodates', 'bathrooms']]\n",
    "second_listing = normalized_listings.iloc[4][['accommodates', 'bathrooms']]\n",
    "\n",
    "first_fifth_distance = distance.euclidean(first_listing, second_listing)\n",
    "print(first_fifth_distance)"
   ]
  },
  {
   "cell_type": "markdown",
   "metadata": {},
   "source": [
    "## Using scikit-learn\n",
    "In this section I will use the scikit-learn library to train and test a K Nearest Neighbors model on the data.\n",
    "\n",
    "### Fitting the model and making predictions"
   ]
  },
  {
   "cell_type": "code",
   "execution_count": 20,
   "metadata": {},
   "outputs": [
    {
     "name": "stdout",
     "output_type": "stream",
     "text": [
      "45815.06916951081 214.04454949732033\n"
     ]
    }
   ],
   "source": [
    "from sklearn.neighbors import KNeighborsRegressor\n",
    "from sklearn.metrics import mean_squared_error\n",
    "from math import sqrt\n",
    "\n",
    "knn = KNeighborsRegressor(n_neighbors=5, algorithm='brute')\n",
    "\n",
    "train_df = normalized_listings.iloc[0:2792]\n",
    "test_df = normalized_listings.iloc[2792:]\n",
    "train_features = train_df[['accommodates','bathrooms']]\n",
    "train_target = train_df['price']\n",
    "\n",
    "knn.fit(train_features, train_target)\n",
    "\n",
    "predictions = knn.predict(test_df[['accommodates','bathrooms']])\n",
    "\n",
    "two_features_mse = mean_squared_error(test_df['price'], predictions)\n",
    "two_features_rmse = sqrt(two_features_mse)\n",
    "print(two_features_mse, two_features_rmse)"
   ]
  },
  {
   "cell_type": "markdown",
   "metadata": {},
   "source": [
    "When using `accomodates` and `bathrooms` I get an RMSE of 214, which is very large. I'll add more features to see if I can decrease this error.\n",
    "\n",
    "### Using more features"
   ]
  },
  {
   "cell_type": "code",
   "execution_count": 21,
   "metadata": {},
   "outputs": [
    {
     "name": "stdout",
     "output_type": "stream",
     "text": [
      "43142.38402730375 207.70744817483978\n"
     ]
    }
   ],
   "source": [
    "features = ['accommodates', 'bedrooms', 'bathrooms', 'number_of_reviews']\n",
    "knn = KNeighborsRegressor(n_neighbors=5, algorithm='brute')\n",
    "train_features = train_df[features]\n",
    "train_target = train_df['price']\n",
    "\n",
    "knn.fit(train_features, train_target)\n",
    "\n",
    "four_predictions = knn.predict(test_df[features])\n",
    "four_mse = mean_squared_error(test_df['price'], four_predictions)\n",
    "four_rmse = sqrt(four_mse)\n",
    "print(four_mse, four_rmse)"
   ]
  },
  {
   "cell_type": "markdown",
   "metadata": {},
   "source": [
    "So far it looks like as I increased the features the model used, the MSE and RMSE is decreasing. Now I'll try using all attributes as features to see if I can improve the scores even more."
   ]
  },
  {
   "cell_type": "code",
   "execution_count": 22,
   "metadata": {},
   "outputs": [
    {
     "name": "stdout",
     "output_type": "stream",
     "text": [
      "45658.27444823663 213.67796902871535\n"
     ]
    }
   ],
   "source": [
    "features = train_df.columns.tolist()\n",
    "features.remove('price')\n",
    "\n",
    "knn = KNeighborsRegressor(n_neighbors=5, algorithm='brute')\n",
    "\n",
    "train_features = train_df[features]\n",
    "train_target = train_df['price']\n",
    "\n",
    "knn.fit(train_features, train_target)\n",
    "all_features_predictions = knn.predict(test_df[features])\n",
    "all_features_mse = mean_squared_error(test_df['price'], all_features_predictions)\n",
    "all_features_rmse = sqrt(all_features_mse)\n",
    "print(all_features_mse, all_features_rmse)"
   ]
  },
  {
   "cell_type": "markdown",
   "metadata": {},
   "source": [
    "Interestingly enough, the RMSE value actually increased to 213.7 when we used all of the features available. This means that selecting the right features is important and that using more features doesn't automatically improve prediction accuracy."
   ]
  }
 ],
 "metadata": {
  "kernelspec": {
   "display_name": "Python 3",
   "language": "python",
   "name": "python3"
  },
  "language_info": {
   "codemirror_mode": {
    "name": "ipython",
    "version": 3
   },
   "file_extension": ".py",
   "mimetype": "text/x-python",
   "name": "python",
   "nbconvert_exporter": "python",
   "pygments_lexer": "ipython3",
   "version": "3.7.4"
  }
 },
 "nbformat": 4,
 "nbformat_minor": 2
}
