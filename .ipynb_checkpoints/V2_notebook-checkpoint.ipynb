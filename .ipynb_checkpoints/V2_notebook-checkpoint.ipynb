{
 "cells": [
  {
   "cell_type": "markdown",
   "metadata": {},
   "source": [
    "# Optimal Price for an AirBnB Rental\n",
    "## Introduction\n",
    "AirBnB is a marketplace for short term rentals that allows users to list part or all of a living space for others to rent. Users can rent everything from a room in an apartment to your entire house on AirBnB. Because most of the listings are on a short-term basis, AirBnB has grown to become a popular alternative to hotels. The company itself has grown from it's founding in 2008 to a 30 billion dollar valuation in 2016 and is currently worth more than any hotel chain in the world.\n",
    "## Problem Definition\n",
    "One challenge that hosts looking to rent their living space face is determining the optimal nightly rent price. In many areas, renters are presented with a good selection of listings and can filter on criteria like price, number of bedrooms, room type and more. Since AirBnB is a marketplace, the amount a host can charge on a nightly basis is closely linked to the dynamics of the marketplace. In this project I will be taking on the role of a host wanting to rent my living space.\n",
    "As a host, if I try to charge above market price for my living space, then renters will select more affordable alternatives which are similar to mine. If I set my nightly rent price too low, I could miss out on potential revenue.\n",
    "\n",
    "One strategy I could use is to:\n",
    "\n",
    "* find a few listings that are similar to mine (k=5),\n",
    "* average the listed price for the ones most similar to mine,\n",
    "* set my listing price to this calculated average price.\n",
    "\n",
    "In this project I will use data on local listings to predict the optimal price to set for a rental. I will use the __K-Nearest Neighbors__ algorithm to solve this problem.\n",
    "\n",
    "## The Data\n",
    "While AirBnB doesn't release any data on the listings in their marketplace, a separate group named _Inside AirBnB_ has extracted data on a sample of the listings for many of the major cities on the website. I'll be working with their dataset from October 3, 2015 on the listings from Washington, D.C., the capital of the United States. Here's a [direct link to that dataset.](http://data.insideairbnb.com/united-states/dc/washington-dc/2015-10-03/data/listings.csv.gz) Each row in the dataset is a specific listing that's available for renting on AirBnB in the Washington, D.C. area.\n",
    "\n",
    "The data file is named `dc_airbnb.csv`, the columns and their descriptions are below:\n",
    "* `host_response_rate`: the response rate of the host\n",
    "* `host_acceptance_rate`: number of requests to the host that convert to rentals\n",
    "* `host_listings_count`: number of other listings the host has\n",
    "* `latitude`: latitude dimension of the geographic coordinates\n",
    "* `longitude`: longitude part of the coordinates\n",
    "* `city`: the city the living space resides\n",
    "* `zipcode`: the zip code the living space resides\n",
    "* `state`: the state the living space resides\n",
    "* `accommodates`: the number of guests the rental can accommodate\n",
    "* `room_type`: the type of living space (Private room, Shared room or Entire home/apt\n",
    "* `bedrooms`: number of bedrooms included in the rental\n",
    "* `bathrooms`: number of bathrooms included in the rental\n",
    "* `beds`: number of beds included in the rental\n",
    "* `price`: nightly price for the rental\n",
    "* `cleaning_fee`: additional fee used for cleaning the living space after the guest leaves\n",
    "* `security_deposit`: refundable security deposit, in case of damages\n",
    "* `minimum_nights`: minimum number of nights a guest can stay for the rental\n",
    "* `maximum_nights`: maximum number of nights a guest can stay for the rental\n",
    "* `number_of_reviews`: number of reviews that previous guests have left\n"
   ]
  },
  {
   "cell_type": "code",
   "execution_count": 1,
   "metadata": {},
   "outputs": [
    {
     "name": "stdout",
     "output_type": "stream",
     "text": [
      "Requirement already satisfied: numpy in c:\\users\\deand\\appdata\\local\\programs\\python\\python37-32\\lib\\site-packages (1.17.2)\n",
      "Note: you may need to restart the kernel to use updated packages.\n"
     ]
    },
    {
     "data": {
      "text/html": [
       "<div>\n",
       "<style scoped>\n",
       "    .dataframe tbody tr th:only-of-type {\n",
       "        vertical-align: middle;\n",
       "    }\n",
       "\n",
       "    .dataframe tbody tr th {\n",
       "        vertical-align: top;\n",
       "    }\n",
       "\n",
       "    .dataframe thead th {\n",
       "        text-align: right;\n",
       "    }\n",
       "</style>\n",
       "<table border=\"1\" class=\"dataframe\">\n",
       "  <thead>\n",
       "    <tr style=\"text-align: right;\">\n",
       "      <th></th>\n",
       "      <th>host_response_rate</th>\n",
       "      <th>host_acceptance_rate</th>\n",
       "      <th>host_listings_count</th>\n",
       "      <th>accommodates</th>\n",
       "      <th>room_type</th>\n",
       "      <th>bedrooms</th>\n",
       "      <th>bathrooms</th>\n",
       "      <th>beds</th>\n",
       "      <th>price</th>\n",
       "      <th>cleaning_fee</th>\n",
       "      <th>security_deposit</th>\n",
       "      <th>minimum_nights</th>\n",
       "      <th>maximum_nights</th>\n",
       "      <th>number_of_reviews</th>\n",
       "      <th>latitude</th>\n",
       "      <th>longitude</th>\n",
       "      <th>city</th>\n",
       "      <th>zipcode</th>\n",
       "      <th>state</th>\n",
       "    </tr>\n",
       "  </thead>\n",
       "  <tbody>\n",
       "    <tr>\n",
       "      <td>0</td>\n",
       "      <td>92%</td>\n",
       "      <td>91%</td>\n",
       "      <td>26</td>\n",
       "      <td>4</td>\n",
       "      <td>Entire home/apt</td>\n",
       "      <td>1.0</td>\n",
       "      <td>1.0</td>\n",
       "      <td>2.0</td>\n",
       "      <td>$160.00</td>\n",
       "      <td>$115.00</td>\n",
       "      <td>$100.00</td>\n",
       "      <td>1</td>\n",
       "      <td>1125</td>\n",
       "      <td>0</td>\n",
       "      <td>38.890046</td>\n",
       "      <td>-77.002808</td>\n",
       "      <td>Washington</td>\n",
       "      <td>20003</td>\n",
       "      <td>DC</td>\n",
       "    </tr>\n",
       "    <tr>\n",
       "      <td>1</td>\n",
       "      <td>90%</td>\n",
       "      <td>100%</td>\n",
       "      <td>1</td>\n",
       "      <td>6</td>\n",
       "      <td>Entire home/apt</td>\n",
       "      <td>3.0</td>\n",
       "      <td>3.0</td>\n",
       "      <td>3.0</td>\n",
       "      <td>$350.00</td>\n",
       "      <td>$100.00</td>\n",
       "      <td>NaN</td>\n",
       "      <td>2</td>\n",
       "      <td>30</td>\n",
       "      <td>65</td>\n",
       "      <td>38.880413</td>\n",
       "      <td>-76.990485</td>\n",
       "      <td>Washington</td>\n",
       "      <td>20003</td>\n",
       "      <td>DC</td>\n",
       "    </tr>\n",
       "    <tr>\n",
       "      <td>2</td>\n",
       "      <td>90%</td>\n",
       "      <td>100%</td>\n",
       "      <td>2</td>\n",
       "      <td>1</td>\n",
       "      <td>Private room</td>\n",
       "      <td>1.0</td>\n",
       "      <td>2.0</td>\n",
       "      <td>1.0</td>\n",
       "      <td>$50.00</td>\n",
       "      <td>NaN</td>\n",
       "      <td>NaN</td>\n",
       "      <td>2</td>\n",
       "      <td>1125</td>\n",
       "      <td>1</td>\n",
       "      <td>38.955291</td>\n",
       "      <td>-76.986006</td>\n",
       "      <td>Hyattsville</td>\n",
       "      <td>20782</td>\n",
       "      <td>MD</td>\n",
       "    </tr>\n",
       "    <tr>\n",
       "      <td>3</td>\n",
       "      <td>100%</td>\n",
       "      <td>NaN</td>\n",
       "      <td>1</td>\n",
       "      <td>2</td>\n",
       "      <td>Private room</td>\n",
       "      <td>1.0</td>\n",
       "      <td>1.0</td>\n",
       "      <td>1.0</td>\n",
       "      <td>$95.00</td>\n",
       "      <td>NaN</td>\n",
       "      <td>NaN</td>\n",
       "      <td>1</td>\n",
       "      <td>1125</td>\n",
       "      <td>0</td>\n",
       "      <td>38.872134</td>\n",
       "      <td>-77.019639</td>\n",
       "      <td>Washington</td>\n",
       "      <td>20024</td>\n",
       "      <td>DC</td>\n",
       "    </tr>\n",
       "    <tr>\n",
       "      <td>4</td>\n",
       "      <td>92%</td>\n",
       "      <td>67%</td>\n",
       "      <td>1</td>\n",
       "      <td>4</td>\n",
       "      <td>Entire home/apt</td>\n",
       "      <td>1.0</td>\n",
       "      <td>1.0</td>\n",
       "      <td>1.0</td>\n",
       "      <td>$50.00</td>\n",
       "      <td>$15.00</td>\n",
       "      <td>$450.00</td>\n",
       "      <td>7</td>\n",
       "      <td>1125</td>\n",
       "      <td>0</td>\n",
       "      <td>38.996382</td>\n",
       "      <td>-77.041541</td>\n",
       "      <td>Silver Spring</td>\n",
       "      <td>20910</td>\n",
       "      <td>MD</td>\n",
       "    </tr>\n",
       "  </tbody>\n",
       "</table>\n",
       "</div>"
      ],
      "text/plain": [
       "  host_response_rate host_acceptance_rate  host_listings_count  accommodates  \\\n",
       "0                92%                  91%                   26             4   \n",
       "1                90%                 100%                    1             6   \n",
       "2                90%                 100%                    2             1   \n",
       "3               100%                  NaN                    1             2   \n",
       "4                92%                  67%                    1             4   \n",
       "\n",
       "         room_type  bedrooms  bathrooms  beds    price cleaning_fee  \\\n",
       "0  Entire home/apt       1.0        1.0   2.0  $160.00      $115.00   \n",
       "1  Entire home/apt       3.0        3.0   3.0  $350.00      $100.00   \n",
       "2     Private room       1.0        2.0   1.0   $50.00          NaN   \n",
       "3     Private room       1.0        1.0   1.0   $95.00          NaN   \n",
       "4  Entire home/apt       1.0        1.0   1.0   $50.00       $15.00   \n",
       "\n",
       "  security_deposit  minimum_nights  maximum_nights  number_of_reviews  \\\n",
       "0          $100.00               1            1125                  0   \n",
       "1              NaN               2              30                 65   \n",
       "2              NaN               2            1125                  1   \n",
       "3              NaN               1            1125                  0   \n",
       "4          $450.00               7            1125                  0   \n",
       "\n",
       "    latitude  longitude           city zipcode state  \n",
       "0  38.890046 -77.002808     Washington   20003    DC  \n",
       "1  38.880413 -76.990485     Washington   20003    DC  \n",
       "2  38.955291 -76.986006    Hyattsville   20782    MD  \n",
       "3  38.872134 -77.019639     Washington   20024    DC  \n",
       "4  38.996382 -77.041541  Silver Spring   20910    MD  "
      ]
     },
     "execution_count": 1,
     "metadata": {},
     "output_type": "execute_result"
    }
   ],
   "source": [
    "%pip install numpy\n",
    "import pandas as pd\n",
    "import numpy as np\n",
    "dc_listings = pd.read_csv(\"dc_airbnb.csv\")\n",
    "dc_listings.head()"
   ]
  },
  {
   "cell_type": "code",
   "execution_count": 2,
   "metadata": {},
   "outputs": [
    {
     "data": {
      "text/plain": [
       "host_response_rate       object\n",
       "host_acceptance_rate     object\n",
       "host_listings_count       int64\n",
       "accommodates              int64\n",
       "room_type                object\n",
       "bedrooms                float64\n",
       "bathrooms               float64\n",
       "beds                    float64\n",
       "price                    object\n",
       "cleaning_fee             object\n",
       "security_deposit         object\n",
       "minimum_nights            int64\n",
       "maximum_nights            int64\n",
       "number_of_reviews         int64\n",
       "latitude                float64\n",
       "longitude               float64\n",
       "city                     object\n",
       "zipcode                  object\n",
       "state                    object\n",
       "dtype: object"
      ]
     },
     "execution_count": 2,
     "metadata": {},
     "output_type": "execute_result"
    }
   ],
   "source": [
    "dc_listings.dtypes"
   ]
  },
  {
   "cell_type": "markdown",
   "metadata": {},
   "source": [
    "### Finding Similar Listings\n",
    "To find listings similar to mine, I need a similarity metric to compare attributes. I will use the univariate case of the Euclidean distance metric:\n",
    "\n",
    "<center><i> \n",
    "    distance = |q1 - p1| \n",
    "    </i></center>\n",
    "\n",
    "* where q1 and p1 are feature values of observations to be compared\n",
    "\n",
    "My living space can accomodate 3 people, so I will calculate the distance, using the `accomodates` column, between my listing and all others in the data set."
   ]
  },
  {
   "cell_type": "code",
   "execution_count": 3,
   "metadata": {},
   "outputs": [
    {
     "name": "stdout",
     "output_type": "stream",
     "text": [
      "1     2294\n",
      "2      503\n",
      "0      461\n",
      "3      279\n",
      "5       73\n",
      "4       35\n",
      "7       22\n",
      "6       17\n",
      "9       12\n",
      "13       8\n",
      "8        7\n",
      "12       6\n",
      "11       4\n",
      "10       2\n",
      "Name: distance, dtype: int64\n"
     ]
    }
   ],
   "source": [
    "#calculating Euclidean distance for all observations\n",
    "dc_listings['distance'] = dc_listings['accommodates'].apply(lambda x: np.abs(x-3))\n",
    "\n",
    "#ranking spaces by ascending distance\n",
    "print(dc_listings['distance'].value_counts())"
   ]
  },
  {
   "cell_type": "markdown",
   "metadata": {},
   "source": [
    "From looking at these results, I am primarily interested in data where distance = 0. This is because a distance of 0 means the value of both features are exactly the same; there are 461 listings in this data set that can also accomodate 3 people.\n",
    "\n",
    "In order to avoid biasing my results to the ordering of the data set, I will randomize the order then sort the dataframe by the `distance` column."
   ]
  },
  {
   "cell_type": "code",
   "execution_count": 4,
   "metadata": {},
   "outputs": [
    {
     "name": "stdout",
     "output_type": "stream",
     "text": [
      "577     $185.00\n",
      "2166    $180.00\n",
      "3631    $175.00\n",
      "71      $128.00\n",
      "1011    $115.00\n",
      "380     $219.00\n",
      "943     $125.00\n",
      "3107    $250.00\n",
      "1499     $94.00\n",
      "625     $150.00\n",
      "Name: price, dtype: object\n"
     ]
    }
   ],
   "source": [
    "np.random.seed(1)\n",
    "#returns a numpy array of shuffled index values and returns a dataframe containing the shuffled order\n",
    "dc_listings = dc_listings.loc[np.random.permutation(len(dc_listings))]\n",
    "dc_listings = dc_listings.sort_values('distance')\n",
    "#now that the dataframe is sorted, I'll display the first 10 values in the price column that I'll work with next\n",
    "print(dc_listings.iloc[0:10]['price'])"
   ]
  },
  {
   "cell_type": "markdown",
   "metadata": {},
   "source": [
    "### Find Average Listing Price\n",
    "Before I can select the 5 most similar living spaces and compute the average price, I need to clean the `price` column. Currently, the column contains comma characters (,) and dollar sign characters and is formatted as a text column instead of a numeric one. I need to remove these values and convert the entire column to the float datatype. Then, we can calculate the average price."
   ]
  },
  {
   "cell_type": "code",
   "execution_count": 5,
   "metadata": {},
   "outputs": [],
   "source": [
    "#cleaning price and converting to float\n",
    "cleaned_price = dc_listings['price'].str.replace(',','').str.replace('$','')\n",
    "dc_listings['price'] = pd.to_numeric(cleaned_price, errors='coerce')"
   ]
  },
  {
   "cell_type": "code",
   "execution_count": 6,
   "metadata": {},
   "outputs": [
    {
     "name": "stdout",
     "output_type": "stream",
     "text": [
      "156.6\n"
     ]
    }
   ],
   "source": [
    "#calculating the mean price of the first five values\n",
    "mean_price = np.mean(dc_listings.iloc[0:5]['price'])\n",
    "print(mean_price)"
   ]
  },
  {
   "cell_type": "markdown",
   "metadata": {},
   "source": [
    "Based on the average price of other listings that accomodate 3 people, I should charge $156.60 per night for a guest to stay in my place.\n",
    "I can create a more general function that can suggest the optimal price for other values of the `accommodates` column:"
   ]
  },
  {
   "cell_type": "code",
   "execution_count": 12,
   "metadata": {},
   "outputs": [
    {
     "name": "stdout",
     "output_type": "stream",
     "text": [
      "194.8\n"
     ]
    }
   ],
   "source": [
    "#where 'new_listing' = accomodates; NOTE: this function does not shuffle the indices\n",
    "def predict_price(new_listing):\n",
    "    temp_df = dc_listings.copy()\n",
    "    temp_df['distance'] = temp_df.accommodates.apply(lambda x: np.abs(x - new_listing))\n",
    "    temp_df = temp_df.sort_values('distance')\n",
    "    price = temp_df.iloc[0:5]['price']\n",
    "    \n",
    "    return(np.mean(price))\n",
    "\n",
    "#test\n",
    "print(predict_price(3))"
   ]
  },
  {
   "cell_type": "markdown",
   "metadata": {},
   "source": [
    "### Evaluating Model Performance"
   ]
  },
  {
   "cell_type": "code",
   "execution_count": 15,
   "metadata": {},
   "outputs": [
    {
     "name": "stderr",
     "output_type": "stream",
     "text": [
      "c:\\users\\deand\\appdata\\local\\programs\\python\\python37-32\\lib\\site-packages\\ipykernel_launcher.py:12: SettingWithCopyWarning: \n",
      "A value is trying to be set on a copy of a slice from a DataFrame.\n",
      "Try using .loc[row_indexer,col_indexer] = value instead\n",
      "\n",
      "See the caveats in the documentation: http://pandas.pydata.org/pandas-docs/stable/user_guide/indexing.html#returning-a-view-versus-a-copy\n",
      "  if sys.path[0] == '':\n"
     ]
    }
   ],
   "source": [
    "train_df = dc_listings.iloc[0:2792]\n",
    "test_df = dc_listings.iloc[2792:]\n",
    "\n",
    "def predict_price(new_listing):\n",
    "    temp_df = train_df.copy()\n",
    "    temp_df['distance'] = temp_df['accommodates'].apply(lambda x: np.abs(x - new_listing))\n",
    "    temp_df = temp_df.sort_values('distance')\n",
    "    nearest_neighbor_prices = temp_df.iloc[0:5]['price']\n",
    "    \n",
    "    predicted_price = nearest_neighbor_prices.mean()\n",
    "    return(predicted_price)\n",
    "\n",
    "test_df['predicted_price'] = test_df['accommodates'].apply(predict_price)"
   ]
  },
  {
   "cell_type": "code",
   "execution_count": 16,
   "metadata": {},
   "outputs": [
    {
     "name": "stdout",
     "output_type": "stream",
     "text": [
      "96.32309344790546\n"
     ]
    }
   ],
   "source": [
    "mae = (np.abs(test_df['price']-test_df['predicted_price'])).mean()\n",
    "print(mae)"
   ]
  },
  {
   "cell_type": "markdown",
   "metadata": {},
   "source": [
    "This tells me that my model is 96 dollars off from the actual price. This is a large error considering the original average listing price is 156 dollars and the optimal listing price is 195 dollars. There are 2 ways I can alter the model to try to improve the accuracy (decrease the RMSE during validation):\n",
    "\n",
    "* increase the number of attributes the model uses to calculate similarity when ranking the closest neighbors\n",
    "* increase k, the number of nearby neighbors the model uses when computing the prediction \n",
    "\n",
    "I'll start by increasing the number of attributes first to see if I can reduce the model error."
   ]
  },
  {
   "cell_type": "code",
   "execution_count": 17,
   "metadata": {},
   "outputs": [
    {
     "name": "stdout",
     "output_type": "stream",
     "text": [
      "<class 'pandas.core.frame.DataFrame'>\n",
      "Int64Index: 3723 entries, 577 to 1224\n",
      "Data columns (total 20 columns):\n",
      "host_response_rate      3289 non-null object\n",
      "host_acceptance_rate    3109 non-null object\n",
      "host_listings_count     3723 non-null int64\n",
      "accommodates            3723 non-null int64\n",
      "room_type               3723 non-null object\n",
      "bedrooms                3702 non-null float64\n",
      "bathrooms               3696 non-null float64\n",
      "beds                    3712 non-null float64\n",
      "price                   3723 non-null float64\n",
      "cleaning_fee            2335 non-null object\n",
      "security_deposit        1426 non-null object\n",
      "minimum_nights          3723 non-null int64\n",
      "maximum_nights          3723 non-null int64\n",
      "number_of_reviews       3723 non-null int64\n",
      "latitude                3723 non-null float64\n",
      "longitude               3723 non-null float64\n",
      "city                    3723 non-null object\n",
      "zipcode                 3714 non-null object\n",
      "state                   3723 non-null object\n",
      "distance                3723 non-null int64\n",
      "dtypes: float64(6), int64(6), object(8)\n",
      "memory usage: 494.5+ KB\n"
     ]
    }
   ],
   "source": [
    "#look for non-ordinal/non-numeric and missing data\n",
    "dc_listings.info()"
   ]
  },
  {
   "cell_type": "markdown",
   "metadata": {},
   "source": [
    "Now I'll drop the columns that are non-numeric or non-ordinal"
   ]
  },
  {
   "cell_type": "code",
   "execution_count": 18,
   "metadata": {},
   "outputs": [],
   "source": [
    "drop_columns = ['room_type', 'city', 'state', 'latitude', 'longitude', 'zipcode', 'host_response_rate', 'host_acceptance_rate', 'host_listings_count']\n",
    "\n",
    "dc_listings = dc_listings.drop(drop_columns, axis=1)"
   ]
  },
  {
   "cell_type": "code",
   "execution_count": 20,
   "metadata": {},
   "outputs": [
    {
     "data": {
      "text/plain": [
       "accommodates            0\n",
       "bedrooms               21\n",
       "bathrooms              27\n",
       "beds                   11\n",
       "price                   0\n",
       "cleaning_fee         1388\n",
       "security_deposit     2297\n",
       "minimum_nights          0\n",
       "maximum_nights          0\n",
       "number_of_reviews       0\n",
       "distance                0\n",
       "dtype: int64"
      ]
     },
     "execution_count": 20,
     "metadata": {},
     "output_type": "execute_result"
    }
   ],
   "source": [
    "#looking for missing values\n",
    "dc_listings.isnull().sum()"
   ]
  },
  {
   "cell_type": "markdown",
   "metadata": {},
   "source": [
    "I'll also drop both the `cleaning_fee` and `security_deposit` columns since they are missing a lot of data."
   ]
  },
  {
   "cell_type": "code",
   "execution_count": 22,
   "metadata": {
    "scrolled": true
   },
   "outputs": [
    {
     "ename": "KeyError",
     "evalue": "\"['cleaning_fee' 'security_deposit'] not found in axis\"",
     "output_type": "error",
     "traceback": [
      "\u001b[1;31m---------------------------------------------------------------------------\u001b[0m",
      "\u001b[1;31mKeyError\u001b[0m                                  Traceback (most recent call last)",
      "\u001b[1;32m<ipython-input-22-cea46d3cb68e>\u001b[0m in \u001b[0;36m<module>\u001b[1;34m\u001b[0m\n\u001b[1;32m----> 1\u001b[1;33m \u001b[0mdc_listings\u001b[0m \u001b[1;33m=\u001b[0m \u001b[0mdc_listings\u001b[0m\u001b[1;33m.\u001b[0m\u001b[0mdrop\u001b[0m\u001b[1;33m(\u001b[0m\u001b[1;33m[\u001b[0m\u001b[1;34m'cleaning_fee'\u001b[0m\u001b[1;33m,\u001b[0m \u001b[1;34m'security_deposit'\u001b[0m\u001b[1;33m]\u001b[0m\u001b[1;33m,\u001b[0m \u001b[0maxis\u001b[0m\u001b[1;33m=\u001b[0m\u001b[1;36m1\u001b[0m\u001b[1;33m)\u001b[0m\u001b[1;33m\u001b[0m\u001b[1;33m\u001b[0m\u001b[0m\n\u001b[0m",
      "\u001b[1;32mc:\\users\\deand\\appdata\\local\\programs\\python\\python37-32\\lib\\site-packages\\pandas\\core\\frame.py\u001b[0m in \u001b[0;36mdrop\u001b[1;34m(self, labels, axis, index, columns, level, inplace, errors)\u001b[0m\n\u001b[0;32m   4100\u001b[0m             \u001b[0mlevel\u001b[0m\u001b[1;33m=\u001b[0m\u001b[0mlevel\u001b[0m\u001b[1;33m,\u001b[0m\u001b[1;33m\u001b[0m\u001b[1;33m\u001b[0m\u001b[0m\n\u001b[0;32m   4101\u001b[0m             \u001b[0minplace\u001b[0m\u001b[1;33m=\u001b[0m\u001b[0minplace\u001b[0m\u001b[1;33m,\u001b[0m\u001b[1;33m\u001b[0m\u001b[1;33m\u001b[0m\u001b[0m\n\u001b[1;32m-> 4102\u001b[1;33m             \u001b[0merrors\u001b[0m\u001b[1;33m=\u001b[0m\u001b[0merrors\u001b[0m\u001b[1;33m,\u001b[0m\u001b[1;33m\u001b[0m\u001b[1;33m\u001b[0m\u001b[0m\n\u001b[0m\u001b[0;32m   4103\u001b[0m         )\n\u001b[0;32m   4104\u001b[0m \u001b[1;33m\u001b[0m\u001b[0m\n",
      "\u001b[1;32mc:\\users\\deand\\appdata\\local\\programs\\python\\python37-32\\lib\\site-packages\\pandas\\core\\generic.py\u001b[0m in \u001b[0;36mdrop\u001b[1;34m(self, labels, axis, index, columns, level, inplace, errors)\u001b[0m\n\u001b[0;32m   3912\u001b[0m         \u001b[1;32mfor\u001b[0m \u001b[0maxis\u001b[0m\u001b[1;33m,\u001b[0m \u001b[0mlabels\u001b[0m \u001b[1;32min\u001b[0m \u001b[0maxes\u001b[0m\u001b[1;33m.\u001b[0m\u001b[0mitems\u001b[0m\u001b[1;33m(\u001b[0m\u001b[1;33m)\u001b[0m\u001b[1;33m:\u001b[0m\u001b[1;33m\u001b[0m\u001b[1;33m\u001b[0m\u001b[0m\n\u001b[0;32m   3913\u001b[0m             \u001b[1;32mif\u001b[0m \u001b[0mlabels\u001b[0m \u001b[1;32mis\u001b[0m \u001b[1;32mnot\u001b[0m \u001b[1;32mNone\u001b[0m\u001b[1;33m:\u001b[0m\u001b[1;33m\u001b[0m\u001b[1;33m\u001b[0m\u001b[0m\n\u001b[1;32m-> 3914\u001b[1;33m                 \u001b[0mobj\u001b[0m \u001b[1;33m=\u001b[0m \u001b[0mobj\u001b[0m\u001b[1;33m.\u001b[0m\u001b[0m_drop_axis\u001b[0m\u001b[1;33m(\u001b[0m\u001b[0mlabels\u001b[0m\u001b[1;33m,\u001b[0m \u001b[0maxis\u001b[0m\u001b[1;33m,\u001b[0m \u001b[0mlevel\u001b[0m\u001b[1;33m=\u001b[0m\u001b[0mlevel\u001b[0m\u001b[1;33m,\u001b[0m \u001b[0merrors\u001b[0m\u001b[1;33m=\u001b[0m\u001b[0merrors\u001b[0m\u001b[1;33m)\u001b[0m\u001b[1;33m\u001b[0m\u001b[1;33m\u001b[0m\u001b[0m\n\u001b[0m\u001b[0;32m   3915\u001b[0m \u001b[1;33m\u001b[0m\u001b[0m\n\u001b[0;32m   3916\u001b[0m         \u001b[1;32mif\u001b[0m \u001b[0minplace\u001b[0m\u001b[1;33m:\u001b[0m\u001b[1;33m\u001b[0m\u001b[1;33m\u001b[0m\u001b[0m\n",
      "\u001b[1;32mc:\\users\\deand\\appdata\\local\\programs\\python\\python37-32\\lib\\site-packages\\pandas\\core\\generic.py\u001b[0m in \u001b[0;36m_drop_axis\u001b[1;34m(self, labels, axis, level, errors)\u001b[0m\n\u001b[0;32m   3944\u001b[0m                 \u001b[0mnew_axis\u001b[0m \u001b[1;33m=\u001b[0m \u001b[0maxis\u001b[0m\u001b[1;33m.\u001b[0m\u001b[0mdrop\u001b[0m\u001b[1;33m(\u001b[0m\u001b[0mlabels\u001b[0m\u001b[1;33m,\u001b[0m \u001b[0mlevel\u001b[0m\u001b[1;33m=\u001b[0m\u001b[0mlevel\u001b[0m\u001b[1;33m,\u001b[0m \u001b[0merrors\u001b[0m\u001b[1;33m=\u001b[0m\u001b[0merrors\u001b[0m\u001b[1;33m)\u001b[0m\u001b[1;33m\u001b[0m\u001b[1;33m\u001b[0m\u001b[0m\n\u001b[0;32m   3945\u001b[0m             \u001b[1;32melse\u001b[0m\u001b[1;33m:\u001b[0m\u001b[1;33m\u001b[0m\u001b[1;33m\u001b[0m\u001b[0m\n\u001b[1;32m-> 3946\u001b[1;33m                 \u001b[0mnew_axis\u001b[0m \u001b[1;33m=\u001b[0m \u001b[0maxis\u001b[0m\u001b[1;33m.\u001b[0m\u001b[0mdrop\u001b[0m\u001b[1;33m(\u001b[0m\u001b[0mlabels\u001b[0m\u001b[1;33m,\u001b[0m \u001b[0merrors\u001b[0m\u001b[1;33m=\u001b[0m\u001b[0merrors\u001b[0m\u001b[1;33m)\u001b[0m\u001b[1;33m\u001b[0m\u001b[1;33m\u001b[0m\u001b[0m\n\u001b[0m\u001b[0;32m   3947\u001b[0m             \u001b[0mresult\u001b[0m \u001b[1;33m=\u001b[0m \u001b[0mself\u001b[0m\u001b[1;33m.\u001b[0m\u001b[0mreindex\u001b[0m\u001b[1;33m(\u001b[0m\u001b[1;33m**\u001b[0m\u001b[1;33m{\u001b[0m\u001b[0maxis_name\u001b[0m\u001b[1;33m:\u001b[0m \u001b[0mnew_axis\u001b[0m\u001b[1;33m}\u001b[0m\u001b[1;33m)\u001b[0m\u001b[1;33m\u001b[0m\u001b[1;33m\u001b[0m\u001b[0m\n\u001b[0;32m   3948\u001b[0m \u001b[1;33m\u001b[0m\u001b[0m\n",
      "\u001b[1;32mc:\\users\\deand\\appdata\\local\\programs\\python\\python37-32\\lib\\site-packages\\pandas\\core\\indexes\\base.py\u001b[0m in \u001b[0;36mdrop\u001b[1;34m(self, labels, errors)\u001b[0m\n\u001b[0;32m   5338\u001b[0m         \u001b[1;32mif\u001b[0m \u001b[0mmask\u001b[0m\u001b[1;33m.\u001b[0m\u001b[0many\u001b[0m\u001b[1;33m(\u001b[0m\u001b[1;33m)\u001b[0m\u001b[1;33m:\u001b[0m\u001b[1;33m\u001b[0m\u001b[1;33m\u001b[0m\u001b[0m\n\u001b[0;32m   5339\u001b[0m             \u001b[1;32mif\u001b[0m \u001b[0merrors\u001b[0m \u001b[1;33m!=\u001b[0m \u001b[1;34m\"ignore\"\u001b[0m\u001b[1;33m:\u001b[0m\u001b[1;33m\u001b[0m\u001b[1;33m\u001b[0m\u001b[0m\n\u001b[1;32m-> 5340\u001b[1;33m                 \u001b[1;32mraise\u001b[0m \u001b[0mKeyError\u001b[0m\u001b[1;33m(\u001b[0m\u001b[1;34m\"{} not found in axis\"\u001b[0m\u001b[1;33m.\u001b[0m\u001b[0mformat\u001b[0m\u001b[1;33m(\u001b[0m\u001b[0mlabels\u001b[0m\u001b[1;33m[\u001b[0m\u001b[0mmask\u001b[0m\u001b[1;33m]\u001b[0m\u001b[1;33m)\u001b[0m\u001b[1;33m)\u001b[0m\u001b[1;33m\u001b[0m\u001b[1;33m\u001b[0m\u001b[0m\n\u001b[0m\u001b[0;32m   5341\u001b[0m             \u001b[0mindexer\u001b[0m \u001b[1;33m=\u001b[0m \u001b[0mindexer\u001b[0m\u001b[1;33m[\u001b[0m\u001b[1;33m~\u001b[0m\u001b[0mmask\u001b[0m\u001b[1;33m]\u001b[0m\u001b[1;33m\u001b[0m\u001b[1;33m\u001b[0m\u001b[0m\n\u001b[0;32m   5342\u001b[0m         \u001b[1;32mreturn\u001b[0m \u001b[0mself\u001b[0m\u001b[1;33m.\u001b[0m\u001b[0mdelete\u001b[0m\u001b[1;33m(\u001b[0m\u001b[0mindexer\u001b[0m\u001b[1;33m)\u001b[0m\u001b[1;33m\u001b[0m\u001b[1;33m\u001b[0m\u001b[0m\n",
      "\u001b[1;31mKeyError\u001b[0m: \"['cleaning_fee' 'security_deposit'] not found in axis\""
     ]
    }
   ],
   "source": [
    "dc_listings = dc_listings.drop(['cleaning_fee', 'security_deposit'], axis=1)"
   ]
  },
  {
   "cell_type": "code",
   "execution_count": 24,
   "metadata": {},
   "outputs": [
    {
     "data": {
      "text/plain": [
       "accommodates         0\n",
       "bedrooms             0\n",
       "bathrooms            0\n",
       "beds                 0\n",
       "price                0\n",
       "minimum_nights       0\n",
       "maximum_nights       0\n",
       "number_of_reviews    0\n",
       "distance             0\n",
       "dtype: int64"
      ]
     },
     "execution_count": 24,
     "metadata": {},
     "output_type": "execute_result"
    }
   ],
   "source": [
    "#I'll also drop the rest of the missing data\n",
    "dc_listings = dc_listings.dropna(axis=0)\n",
    "dc_listings.isnull().sum()"
   ]
  },
  {
   "cell_type": "code",
   "execution_count": null,
   "metadata": {},
   "outputs": [],
   "source": []
  }
 ],
 "metadata": {
  "kernelspec": {
   "display_name": "Python 3",
   "language": "python",
   "name": "python3"
  },
  "language_info": {
   "codemirror_mode": {
    "name": "ipython",
    "version": 3
   },
   "file_extension": ".py",
   "mimetype": "text/x-python",
   "name": "python",
   "nbconvert_exporter": "python",
   "pygments_lexer": "ipython3",
   "version": "3.7.4"
  }
 },
 "nbformat": 4,
 "nbformat_minor": 2
}
